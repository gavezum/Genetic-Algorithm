{
 "cells": [
  {
   "cell_type": "code",
   "execution_count": 2,
   "id": "aee17216",
   "metadata": {},
   "outputs": [
    {
     "name": "stdout",
     "output_type": "stream",
     "text": [
      "Collecting tsplib95\n",
      "  Downloading tsplib95-0.7.1-py2.py3-none-any.whl (25 kB)\n",
      "Collecting tabulate~=0.8.7\n",
      "  Downloading tabulate-0.8.9-py3-none-any.whl (25 kB)\n",
      "Requirement already satisfied: Click>=6.0 in c:\\users\\not\\anaconda3\\lib\\site-packages (from tsplib95) (7.1.2)\n",
      "Requirement already satisfied: Deprecated~=1.2.9 in c:\\users\\not\\anaconda3\\lib\\site-packages (from tsplib95) (1.2.13)\n",
      "Requirement already satisfied: networkx~=2.1 in c:\\users\\not\\anaconda3\\lib\\site-packages (from tsplib95) (2.5)\n",
      "Requirement already satisfied: wrapt<2,>=1.10 in c:\\users\\not\\anaconda3\\lib\\site-packages (from Deprecated~=1.2.9->tsplib95) (1.12.1)\n",
      "Requirement already satisfied: decorator>=4.3.0 in c:\\users\\not\\anaconda3\\lib\\site-packages (from networkx~=2.1->tsplib95) (5.0.6)\n",
      "Installing collected packages: tabulate, tsplib95\n",
      "Successfully installed tabulate-0.8.9 tsplib95-0.7.1\n"
     ]
    }
   ],
   "source": [
    "!pip install tsplib95"
   ]
  },
  {
   "cell_type": "code",
   "execution_count": 3,
   "id": "099363ff",
   "metadata": {},
   "outputs": [],
   "source": [
    "import tsplib95"
   ]
  },
  {
   "cell_type": "code",
   "execution_count": 36,
   "id": "84de8ad2",
   "metadata": {},
   "outputs": [],
   "source": [
    "problem = tsplib95.load('pr299.tsp')"
   ]
  },
  {
   "cell_type": "code",
   "execution_count": 37,
   "id": "100e5c86",
   "metadata": {},
   "outputs": [
    {
     "data": {
      "text/plain": [
       "299"
      ]
     },
     "execution_count": 37,
     "metadata": {},
     "output_type": "execute_result"
    }
   ],
   "source": [
    "len(problem.node_coords)"
   ]
  },
  {
   "cell_type": "code",
   "execution_count": 38,
   "id": "aa0e2f23",
   "metadata": {},
   "outputs": [
    {
     "data": {
      "text/plain": [
       "3062"
      ]
     },
     "execution_count": 38,
     "metadata": {},
     "output_type": "execute_result"
    }
   ],
   "source": [
    "problem.get_weight(1,299)"
   ]
  },
  {
   "cell_type": "code",
   "execution_count": 39,
   "id": "a5ca17b5",
   "metadata": {},
   "outputs": [],
   "source": [
    "problem = tsplib95.load('pr299.tsp')\n",
    "Distance_matrix = []\n",
    "for i in range(1,len(problem.node_coords)+1):\n",
    "    aux=[]\n",
    "    for j in range(1,len(problem.node_coords)+1):\n",
    "        aux.append(problem.get_weight(i,j))\n",
    "    Distance_matrix.append(aux)\n",
    "    "
   ]
  }
 ],
 "metadata": {
  "kernelspec": {
   "display_name": "Python 3",
   "language": "python",
   "name": "python3"
  },
  "language_info": {
   "codemirror_mode": {
    "name": "ipython",
    "version": 3
   },
   "file_extension": ".py",
   "mimetype": "text/x-python",
   "name": "python",
   "nbconvert_exporter": "python",
   "pygments_lexer": "ipython3",
   "version": "3.8.8"
  }
 },
 "nbformat": 4,
 "nbformat_minor": 5
}
